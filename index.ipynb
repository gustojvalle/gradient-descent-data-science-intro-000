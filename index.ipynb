{
 "cells": [
  {
   "cell_type": "markdown",
   "metadata": {},
   "source": [
    "# Gradient Descent"
   ]
  },
  {
   "cell_type": "markdown",
   "metadata": {},
   "source": [
    "### Learning Objectives "
   ]
  },
  {
   "cell_type": "markdown",
   "metadata": {},
   "source": [
    "* Understand how to go from RSS to finding a \"best fit\" line\n",
    "* Understand a cost curve and what it displays"
   ]
  },
  {
   "cell_type": "markdown",
   "metadata": {},
   "source": [
    "### Introduction"
   ]
  },
  {
   "cell_type": "markdown",
   "metadata": {},
   "source": [
    "In the previous section, we saw how after choosing the slope and y-intercept values of a regression line, we can calculate the residual sum of squares (RSS) and related root mean squared error (RMSE).  We can use either the RSS or RMSE to calculate the accuracy of a line.  In this lesson, we'll proceed with RSS as it's the simpler of the two.\n",
    "\n",
    "Once we have calculated the accuracy of a line, we can improve upon that line by minimizing the RSS.  This is the task of gradient descent.  But before learning about gradient descent, let's review and ensure that we understand how to evaluate how our line fits our data.  "
   ]
  },
  {
   "cell_type": "markdown",
   "metadata": {},
   "source": [
    "### Review of plotting our data and a regression line"
   ]
  },
  {
   "cell_type": "markdown",
   "metadata": {},
   "source": [
    "For this example, let's imagine that our data looks like the following:"
   ]
  },
  {
   "cell_type": "code",
   "execution_count": 10,
   "metadata": {},
   "outputs": [],
   "source": [
    "first_movie = {'budget': 100, 'revenue': 275}\n",
    "second_movie = {'budget': 200, 'revenue': 300}\n",
    "third_movie = {'budget': 250, 'revenue': 550}\n",
    "fourth_movie = {'budget': 325, 'revenue': 525}\n",
    "fifth_movie = {'budget': 400, 'revenue': 700}\n",
    "\n",
    "shows = [first_movie, second_movie, third_movie, fourth_movie, fifth_movie]"
   ]
  },
  {
   "cell_type": "markdown",
   "metadata": {},
   "source": [
    "> Press shift + enter"
   ]
  },
  {
   "cell_type": "markdown",
   "metadata": {},
   "source": [
    "Let's again come up with some numbers for a slope and a y-intercept.  \n",
    "\n",
    ">Remember that our technique so far is to get at the slope by drawing a line between the first and last points.  And from there, we calculate the value of $b$.  Our `build_regression_line` function, defined in our [linear_equations library](https://github.com/learn-co-curriculum/gradient-descent/blob/master/linear_equations.py), quickly does this for us."
   ]
  },
  {
   "cell_type": "markdown",
   "metadata": {},
   "source": [
    "So let's convert our data above into a list of `x_values`, budgets, and `y_values`, revenues, and pass them into our `build_regression_line` function. "
   ]
  },
  {
   "cell_type": "code",
   "execution_count": 11,
   "metadata": {},
   "outputs": [
    {
     "data": {
      "text/plain": [
       "{'m': 1.4166666666666667, 'b': 133.33333333333326}"
      ]
     },
     "execution_count": 11,
     "metadata": {},
     "output_type": "execute_result"
    }
   ],
   "source": [
    "from linear_equations import build_regression_line\n",
    "\n",
    "budgets = list(map(lambda show: show['budget'], shows))\n",
    "revenues = list(map(lambda show: show['revenue'], shows))\n",
    "\n",
    "build_regression_line(budgets, revenues)"
   ]
  },
  {
   "cell_type": "markdown",
   "metadata": {},
   "source": [
    "Turning this into a regression formula, we have the following:"
   ]
  },
  {
   "cell_type": "code",
   "execution_count": 12,
   "metadata": {},
   "outputs": [],
   "source": [
    "def regression_formula(x):\n",
    "    return 1.417*x + 133.33"
   ]
  },
  {
   "cell_type": "markdown",
   "metadata": {},
   "source": [
    "Let's plot this regression formula with our data to get a sense of what it looks like. "
   ]
  },
  {
   "cell_type": "code",
   "execution_count": 13,
   "metadata": {},
   "outputs": [
    {
     "data": {
      "text/html": [
       "<script>requirejs.config({paths: { 'plotly': ['https://cdn.plot.ly/plotly-latest.min']},});if(!window.Plotly) {{require(['plotly'],function(plotly) {window.Plotly=plotly;});}}</script>"
      ],
      "text/vnd.plotly.v1+html": [
       "<script>requirejs.config({paths: { 'plotly': ['https://cdn.plot.ly/plotly-latest.min']},});if(!window.Plotly) {{require(['plotly'],function(plotly) {window.Plotly=plotly;});}}</script>"
      ]
     },
     "metadata": {},
     "output_type": "display_data"
    },
    {
     "data": {
      "application/vnd.plotly.v1+json": {
       "data": [
        {
         "mode": "lines",
         "name": "line function",
         "type": "scatter",
         "uid": "e8365d14-e3af-11e9-9ff6-e12f6422c2a1",
         "x": [
          100,
          200,
          250,
          325,
          400
         ],
         "y": [
          275.03000000000003,
          416.73,
          487.58000000000004,
          593.855,
          700.1300000000001
         ]
        },
        {
         "mode": "markers",
         "name": "data",
         "text": [],
         "type": "scatter",
         "uid": "e8365f6c-e3af-11e9-9ff6-e12f6422c2a1",
         "x": [
          100,
          200,
          250,
          325,
          400
         ],
         "y": [
          275,
          300,
          550,
          525,
          700
         ]
        }
       ],
       "layout": {}
      },
      "text/html": [
       "<div id=\"0ed5999a-f105-4fae-85e6-8fcf55c8ea82\" style=\"height: 525px; width: 100%;\" class=\"plotly-graph-div\"></div><script type=\"text/javascript\">require([\"plotly\"], function(Plotly) { window.PLOTLYENV=window.PLOTLYENV || {};window.PLOTLYENV.BASE_URL=\"https://plot.ly\";Plotly.newPlot(\"0ed5999a-f105-4fae-85e6-8fcf55c8ea82\", [{\"mode\": \"lines\", \"name\": \"line function\", \"x\": [100, 200, 250, 325, 400], \"y\": [275.03000000000003, 416.73, 487.58000000000004, 593.855, 700.1300000000001], \"type\": \"scatter\", \"uid\": \"e83b7eac-e3af-11e9-9ff6-e12f6422c2a1\"}, {\"mode\": \"markers\", \"name\": \"data\", \"text\": [], \"x\": [100, 200, 250, 325, 400], \"y\": [275, 300, 550, 525, 700], \"type\": \"scatter\", \"uid\": \"e83b80aa-e3af-11e9-9ff6-e12f6422c2a1\"}], {}, {\"showLink\": true, \"linkText\": \"Export to plot.ly\"})});</script>"
      ],
      "text/vnd.plotly.v1+html": [
       "<div id=\"0ed5999a-f105-4fae-85e6-8fcf55c8ea82\" style=\"height: 525px; width: 100%;\" class=\"plotly-graph-div\"></div><script type=\"text/javascript\">require([\"plotly\"], function(Plotly) { window.PLOTLYENV=window.PLOTLYENV || {};window.PLOTLYENV.BASE_URL=\"https://plot.ly\";Plotly.newPlot(\"0ed5999a-f105-4fae-85e6-8fcf55c8ea82\", [{\"mode\": \"lines\", \"name\": \"line function\", \"x\": [100, 200, 250, 325, 400], \"y\": [275.03000000000003, 416.73, 487.58000000000004, 593.855, 700.1300000000001], \"type\": \"scatter\", \"uid\": \"e83b7eac-e3af-11e9-9ff6-e12f6422c2a1\"}, {\"mode\": \"markers\", \"name\": \"data\", \"text\": [], \"x\": [100, 200, 250, 325, 400], \"y\": [275, 300, 550, 525, 700], \"type\": \"scatter\", \"uid\": \"e83b80aa-e3af-11e9-9ff6-e12f6422c2a1\"}], {}, {\"showLink\": true, \"linkText\": \"Export to plot.ly\"})});</script>"
      ]
     },
     "metadata": {},
     "output_type": "display_data"
    }
   ],
   "source": [
    "# First import the `plotly` libraries and functions in our notebook. \n",
    "import plotly\n",
    "from plotly.offline import init_notebook_mode, iplot\n",
    "init_notebook_mode(connected=True)\n",
    "\n",
    "# then import our graph functions\n",
    "from graph import m_b_trace, trace_values, plot\n",
    "\n",
    "regression_trace = m_b_trace(1.417, 133.33, budgets)\n",
    "scatter_trace = trace_values(budgets, revenues)\n",
    "plot([regression_trace, scatter_trace])"
   ]
  },
  {
   "cell_type": "markdown",
   "metadata": {},
   "source": [
    "### Evaluating the regression line"
   ]
  },
  {
   "cell_type": "markdown",
   "metadata": {},
   "source": [
    "Ok, now we add in our functions for displaying the errors for our graph."
   ]
  },
  {
   "cell_type": "code",
   "execution_count": 14,
   "metadata": {},
   "outputs": [
    {
     "data": {
      "application/vnd.plotly.v1+json": {
       "data": [
        {
         "mode": "markers",
         "name": "data",
         "text": [],
         "type": "scatter",
         "uid": "e8d8ff9c-e3af-11e9-9ff6-e12f6422c2a1",
         "x": [
          100,
          200,
          250,
          325,
          400
         ],
         "y": [
          275,
          300,
          550,
          525,
          700
         ]
        },
        {
         "mode": "lines",
         "name": "line function",
         "type": "scatter",
         "uid": "e8d901f4-e3af-11e9-9ff6-e12f6422c2a1",
         "x": [
          100,
          200,
          250,
          325,
          400
         ],
         "y": [
          275.03000000000003,
          416.73,
          487.58000000000004,
          593.855,
          700.1300000000001
         ]
        },
        {
         "marker": {
          "color": "red"
         },
         "mode": "lines",
         "name": "error at 100",
         "text": [
          "-0.03000000000002956"
         ],
         "textposition": "top right",
         "type": "scatter",
         "uid": "e8d90352-e3af-11e9-9ff6-e12f6422c2a1",
         "x": [
          100,
          100
         ],
         "y": [
          275,
          275.03000000000003
         ]
        },
        {
         "marker": {
          "color": "red"
         },
         "mode": "lines",
         "name": "error at 200",
         "text": [
          "-116.73000000000002"
         ],
         "textposition": "top right",
         "type": "scatter",
         "uid": "e8d9047e-e3af-11e9-9ff6-e12f6422c2a1",
         "x": [
          200,
          200
         ],
         "y": [
          300,
          416.73
         ]
        },
        {
         "marker": {
          "color": "red"
         },
         "mode": "lines",
         "name": "error at 250",
         "text": [
          "62.41999999999996"
         ],
         "textposition": "top right",
         "type": "scatter",
         "uid": "e8d9058c-e3af-11e9-9ff6-e12f6422c2a1",
         "x": [
          250,
          250
         ],
         "y": [
          550,
          487.58000000000004
         ]
        },
        {
         "marker": {
          "color": "red"
         },
         "mode": "lines",
         "name": "error at 325",
         "text": [
          "-68.85500000000002"
         ],
         "textposition": "top right",
         "type": "scatter",
         "uid": "e8d9069a-e3af-11e9-9ff6-e12f6422c2a1",
         "x": [
          325,
          325
         ],
         "y": [
          525,
          593.855
         ]
        },
        {
         "marker": {
          "color": "red"
         },
         "mode": "lines",
         "name": "error at 400",
         "text": [
          "-0.13000000000010914"
         ],
         "textposition": "top right",
         "type": "scatter",
         "uid": "e8d9079e-e3af-11e9-9ff6-e12f6422c2a1",
         "x": [
          400,
          400
         ],
         "y": [
          700,
          700.1300000000001
         ]
        }
       ],
       "layout": {}
      },
      "text/html": [
       "<div id=\"0c65c861-ea1b-4869-acaa-1ebdf00d4f87\" style=\"height: 525px; width: 100%;\" class=\"plotly-graph-div\"></div><script type=\"text/javascript\">require([\"plotly\"], function(Plotly) { window.PLOTLYENV=window.PLOTLYENV || {};window.PLOTLYENV.BASE_URL=\"https://plot.ly\";Plotly.newPlot(\"0c65c861-ea1b-4869-acaa-1ebdf00d4f87\", [{\"mode\": \"markers\", \"name\": \"data\", \"text\": [], \"x\": [100, 200, 250, 325, 400], \"y\": [275, 300, 550, 525, 700], \"type\": \"scatter\", \"uid\": \"e8e22554-e3af-11e9-9ff6-e12f6422c2a1\"}, {\"mode\": \"lines\", \"name\": \"line function\", \"x\": [100, 200, 250, 325, 400], \"y\": [275.03000000000003, 416.73, 487.58000000000004, 593.855, 700.1300000000001], \"type\": \"scatter\", \"uid\": \"e8e22748-e3af-11e9-9ff6-e12f6422c2a1\"}, {\"marker\": {\"color\": \"red\"}, \"mode\": \"lines\", \"name\": \"error at 100\", \"text\": [\"-0.03000000000002956\"], \"textposition\": \"top right\", \"x\": [100, 100], \"y\": [275, 275.03000000000003], \"type\": \"scatter\", \"uid\": \"e8e22842-e3af-11e9-9ff6-e12f6422c2a1\"}, {\"marker\": {\"color\": \"red\"}, \"mode\": \"lines\", \"name\": \"error at 200\", \"text\": [\"-116.73000000000002\"], \"textposition\": \"top right\", \"x\": [200, 200], \"y\": [300, 416.73], \"type\": \"scatter\", \"uid\": \"e8e2290a-e3af-11e9-9ff6-e12f6422c2a1\"}, {\"marker\": {\"color\": \"red\"}, \"mode\": \"lines\", \"name\": \"error at 250\", \"text\": [\"62.41999999999996\"], \"textposition\": \"top right\", \"x\": [250, 250], \"y\": [550, 487.58000000000004], \"type\": \"scatter\", \"uid\": \"e8e229d2-e3af-11e9-9ff6-e12f6422c2a1\"}, {\"marker\": {\"color\": \"red\"}, \"mode\": \"lines\", \"name\": \"error at 325\", \"text\": [\"-68.85500000000002\"], \"textposition\": \"top right\", \"x\": [325, 325], \"y\": [525, 593.855], \"type\": \"scatter\", \"uid\": \"e8e22a90-e3af-11e9-9ff6-e12f6422c2a1\"}, {\"marker\": {\"color\": \"red\"}, \"mode\": \"lines\", \"name\": \"error at 400\", \"text\": [\"-0.13000000000010914\"], \"textposition\": \"top right\", \"x\": [400, 400], \"y\": [700, 700.1300000000001], \"type\": \"scatter\", \"uid\": \"e8e22b44-e3af-11e9-9ff6-e12f6422c2a1\"}], {}, {\"showLink\": true, \"linkText\": \"Export to plot.ly\"})});</script>"
      ],
      "text/vnd.plotly.v1+html": [
       "<div id=\"0c65c861-ea1b-4869-acaa-1ebdf00d4f87\" style=\"height: 525px; width: 100%;\" class=\"plotly-graph-div\"></div><script type=\"text/javascript\">require([\"plotly\"], function(Plotly) { window.PLOTLYENV=window.PLOTLYENV || {};window.PLOTLYENV.BASE_URL=\"https://plot.ly\";Plotly.newPlot(\"0c65c861-ea1b-4869-acaa-1ebdf00d4f87\", [{\"mode\": \"markers\", \"name\": \"data\", \"text\": [], \"x\": [100, 200, 250, 325, 400], \"y\": [275, 300, 550, 525, 700], \"type\": \"scatter\", \"uid\": \"e8e22554-e3af-11e9-9ff6-e12f6422c2a1\"}, {\"mode\": \"lines\", \"name\": \"line function\", \"x\": [100, 200, 250, 325, 400], \"y\": [275.03000000000003, 416.73, 487.58000000000004, 593.855, 700.1300000000001], \"type\": \"scatter\", \"uid\": \"e8e22748-e3af-11e9-9ff6-e12f6422c2a1\"}, {\"marker\": {\"color\": \"red\"}, \"mode\": \"lines\", \"name\": \"error at 100\", \"text\": [\"-0.03000000000002956\"], \"textposition\": \"top right\", \"x\": [100, 100], \"y\": [275, 275.03000000000003], \"type\": \"scatter\", \"uid\": \"e8e22842-e3af-11e9-9ff6-e12f6422c2a1\"}, {\"marker\": {\"color\": \"red\"}, \"mode\": \"lines\", \"name\": \"error at 200\", \"text\": [\"-116.73000000000002\"], \"textposition\": \"top right\", \"x\": [200, 200], \"y\": [300, 416.73], \"type\": \"scatter\", \"uid\": \"e8e2290a-e3af-11e9-9ff6-e12f6422c2a1\"}, {\"marker\": {\"color\": \"red\"}, \"mode\": \"lines\", \"name\": \"error at 250\", \"text\": [\"62.41999999999996\"], \"textposition\": \"top right\", \"x\": [250, 250], \"y\": [550, 487.58000000000004], \"type\": \"scatter\", \"uid\": \"e8e229d2-e3af-11e9-9ff6-e12f6422c2a1\"}, {\"marker\": {\"color\": \"red\"}, \"mode\": \"lines\", \"name\": \"error at 325\", \"text\": [\"-68.85500000000002\"], \"textposition\": \"top right\", \"x\": [325, 325], \"y\": [525, 593.855], \"type\": \"scatter\", \"uid\": \"e8e22a90-e3af-11e9-9ff6-e12f6422c2a1\"}, {\"marker\": {\"color\": \"red\"}, \"mode\": \"lines\", \"name\": \"error at 400\", \"text\": [\"-0.13000000000010914\"], \"textposition\": \"top right\", \"x\": [400, 400], \"y\": [700, 700.1300000000001], \"type\": \"scatter\", \"uid\": \"e8e22b44-e3af-11e9-9ff6-e12f6422c2a1\"}], {}, {\"showLink\": true, \"linkText\": \"Export to plot.ly\"})});</script>"
      ]
     },
     "metadata": {},
     "output_type": "display_data"
    }
   ],
   "source": [
    "from graph import trace, plot, line_function_trace\n",
    "\n",
    "def y_actual(x, x_values, y_values):\n",
    "    combined_values = list(zip(x_values, y_values))\n",
    "    point_at_x = list(filter(lambda point: point[0] == x,combined_values))[0]\n",
    "    return point_at_x[1]\n",
    "\n",
    "def error_line_trace(x_values, y_values, m, b, x):\n",
    "    y_hat = m*x + b\n",
    "    y = y_actual(x, x_values, y_values)\n",
    "    name = 'error at ' + str(x)\n",
    "    error_value = y - y_hat\n",
    "    return {'x': [x, x], 'y': [y, y_hat], 'mode': 'lines', 'marker': {'color': 'red'}, 'name': name, 'text': [error_value], 'textposition':'top right'}\n",
    "\n",
    "def error_line_traces(x_values, y_values, m, b):\n",
    "    return list(map(lambda x_value: error_line_trace(x_values, y_values, m, b, x_value), x_values))\n",
    "\n",
    "errors = error_line_traces(budgets, revenues, 1.417, 133.33)\n",
    "plot([scatter_trace, regression_trace, *errors])"
   ]
  },
  {
   "cell_type": "markdown",
   "metadata": {},
   "source": [
    "From there, we calculate the `residual sum of squared errors` and the `root mean squared error`:"
   ]
  },
  {
   "cell_type": "code",
   "execution_count": 15,
   "metadata": {
    "scrolled": true
   },
   "outputs": [
    {
     "data": {
      "text/plain": [
       "66.73"
      ]
     },
     "execution_count": 15,
     "metadata": {},
     "output_type": "execute_result"
    }
   ],
   "source": [
    "import math\n",
    "def error(x_values, y_values, m, b, x):\n",
    "    expected = (m*x + b)\n",
    "    return (y_actual(x, x_values, y_values) - expected)\n",
    "\n",
    "def squared_error(x_values, y_values, m, b, x):\n",
    "    return round(error(x_values, y_values, m, b, x)**2, 2)\n",
    "\n",
    "def squared_errors(x_values, y_values, m, b):\n",
    "    return list(map(lambda x: squared_error(x_values, y_values, m, b, x), x_values))\n",
    "\n",
    "def residual_sum_squares(x_values, y_values, m, b):\n",
    "    return round(sum(squared_errors(x_values, y_values, m, b)), 2)\n",
    "\n",
    "def root_mean_squared_error(x_values, y_values, m, b):\n",
    "    return round(math.sqrt(sum(squared_errors(x_values, y_values, m, b))/len(x_values)), 2)\n",
    "\n",
    "squared_errors(budgets, revenues, 1.417, 133.33) #[0.0, 13625.89, 3896.26, 4741.01, 0.02]\n",
    "residual_sum_squares(budgets, revenues, 1.417, 133.33) # 22263.18\n",
    "root_mean_squared_error(budgets, revenues, 1.417, 133.33) # 66.73"
   ]
  },
  {
   "cell_type": "markdown",
   "metadata": {},
   "source": [
    "### Moving towards gradient descent"
   ]
  },
  {
   "cell_type": "markdown",
   "metadata": {},
   "source": [
    "Now that we have the residual sum of squares function to evaluate the accuracy of our regression line, we can simply try out different regression lines and use the regression line that has the lowest RSS.  The regression line that produces the lowest RSS for a given dataset is called the \"best fit\" line for that dataset.  \n",
    "\n",
    "So this will be our technique for finding our \"best fit\" line:\n",
    "\n",
    "> * Choose a regression line with a guess of values for $m$ and $b$\n",
    "> * Calculate the RSS\n",
    "> * Adjust $m$ and $b$, as these are the only things that can vary in a single-variable regression line.\n",
    "> * Again calculate the RSS \n",
    "> * Repeat this process\n",
    "> * The regression line (that is, the values of $b$ and $m$) with the smallest RSS is our **best fit line**\n",
    "\n",
    "We'll eventually tweak and improve upon that process, but for now it will do.  In fact, we will make things even easier at first by holding $m$ fixed to a constant value while we experiment with different $b$ values.  In later lessons, we will change both variables."
   ]
  },
  {
   "cell_type": "markdown",
   "metadata": {},
   "source": [
    "#### Updating the regression line to improve accuracy"
   ]
  },
  {
   "cell_type": "markdown",
   "metadata": {},
   "source": [
    "Ok, so we have a regression line of $\\hat{y} = mx + b $, and we started with values of $m = 1.417 $ and $b = 133.33 $.  Then seeing how well this regression line matched our dataset, we calculated that $ RSS = 22,263.18 $.  Our next step is to plug in different values of $b$ and see how RSS changes.  Let's try $b$ = 140 instead of $133.33$."
   ]
  },
  {
   "cell_type": "code",
   "execution_count": 16,
   "metadata": {},
   "outputs": [
    {
     "data": {
      "text/plain": [
       "24130.78"
      ]
     },
     "execution_count": 16,
     "metadata": {},
     "output_type": "execute_result"
    }
   ],
   "source": [
    "residual_sum_squares(budgets, revenues, 1.417, 140)"
   ]
  },
  {
   "cell_type": "markdown",
   "metadata": {},
   "source": [
    "Now let's the RSS for a variety of $b$ values."
   ]
  },
  {
   "cell_type": "code",
   "execution_count": 17,
   "metadata": {},
   "outputs": [],
   "source": [
    "def residual_sum_squares_errors(x_values, y_values, regression_lines):\n",
    "    errors = []\n",
    "    for regression_line in regression_lines:\n",
    "        error = residual_sum_squares(x_values, y_values, regression_line[0], regression_line[1])\n",
    "        errors.append([regression_line[0], regression_line[1], round(error, 0)])\n",
    "    return errors"
   ]
  },
  {
   "cell_type": "code",
   "execution_count": 34,
   "metadata": {},
   "outputs": [
    {
     "data": {
      "text/plain": [
       "[(1.417, 108.0),\n",
       " (1.417, 108.02020202020202),\n",
       " (1.417, 108.04040404040404),\n",
       " (1.417, 108.06060606060606),\n",
       " (1.417, 108.08080808080808),\n",
       " (1.417, 108.1010101010101),\n",
       " (1.417, 108.12121212121212),\n",
       " (1.417, 108.14141414141415),\n",
       " (1.417, 108.16161616161617),\n",
       " (1.417, 108.18181818181819),\n",
       " (1.417, 108.20202020202021),\n",
       " (1.417, 108.22222222222223),\n",
       " (1.417, 108.24242424242425),\n",
       " (1.417, 108.26262626262626),\n",
       " (1.417, 108.28282828282828),\n",
       " (1.417, 108.3030303030303),\n",
       " (1.417, 108.32323232323232),\n",
       " (1.417, 108.34343434343434),\n",
       " (1.417, 108.36363636363636),\n",
       " (1.417, 108.38383838383838),\n",
       " (1.417, 108.4040404040404),\n",
       " (1.417, 108.42424242424242),\n",
       " (1.417, 108.44444444444444),\n",
       " (1.417, 108.46464646464646),\n",
       " (1.417, 108.48484848484848),\n",
       " (1.417, 108.5050505050505),\n",
       " (1.417, 108.52525252525253),\n",
       " (1.417, 108.54545454545455),\n",
       " (1.417, 108.56565656565657),\n",
       " (1.417, 108.58585858585859),\n",
       " (1.417, 108.60606060606061),\n",
       " (1.417, 108.62626262626263),\n",
       " (1.417, 108.64646464646465),\n",
       " (1.417, 108.66666666666667),\n",
       " (1.417, 108.68686868686869),\n",
       " (1.417, 108.70707070707071),\n",
       " (1.417, 108.72727272727273),\n",
       " (1.417, 108.74747474747475),\n",
       " (1.417, 108.76767676767676),\n",
       " (1.417, 108.78787878787878),\n",
       " (1.417, 108.8080808080808),\n",
       " (1.417, 108.82828282828282),\n",
       " (1.417, 108.84848484848484),\n",
       " (1.417, 108.86868686868686),\n",
       " (1.417, 108.88888888888889),\n",
       " (1.417, 108.9090909090909),\n",
       " (1.417, 108.92929292929293),\n",
       " (1.417, 108.94949494949495),\n",
       " (1.417, 108.96969696969697),\n",
       " (1.417, 108.98989898989899),\n",
       " (1.417, 109.01010101010101),\n",
       " (1.417, 109.03030303030303),\n",
       " (1.417, 109.05050505050505),\n",
       " (1.417, 109.07070707070707),\n",
       " (1.417, 109.0909090909091),\n",
       " (1.417, 109.11111111111111),\n",
       " (1.417, 109.13131313131314),\n",
       " (1.417, 109.15151515151516),\n",
       " (1.417, 109.17171717171718),\n",
       " (1.417, 109.1919191919192),\n",
       " (1.417, 109.21212121212122),\n",
       " (1.417, 109.23232323232324),\n",
       " (1.417, 109.25252525252526),\n",
       " (1.417, 109.27272727272727),\n",
       " (1.417, 109.29292929292929),\n",
       " (1.417, 109.31313131313131),\n",
       " (1.417, 109.33333333333333),\n",
       " (1.417, 109.35353535353535),\n",
       " (1.417, 109.37373737373737),\n",
       " (1.417, 109.39393939393939),\n",
       " (1.417, 109.41414141414141),\n",
       " (1.417, 109.43434343434343),\n",
       " (1.417, 109.45454545454545),\n",
       " (1.417, 109.47474747474747),\n",
       " (1.417, 109.4949494949495),\n",
       " (1.417, 109.51515151515152),\n",
       " (1.417, 109.53535353535354),\n",
       " (1.417, 109.55555555555556),\n",
       " (1.417, 109.57575757575758),\n",
       " (1.417, 109.5959595959596),\n",
       " (1.417, 109.61616161616162),\n",
       " (1.417, 109.63636363636364),\n",
       " (1.417, 109.65656565656566),\n",
       " (1.417, 109.67676767676768),\n",
       " (1.417, 109.6969696969697),\n",
       " (1.417, 109.71717171717172),\n",
       " (1.417, 109.73737373737374),\n",
       " (1.417, 109.75757575757575),\n",
       " (1.417, 109.77777777777777),\n",
       " (1.417, 109.79797979797979),\n",
       " (1.417, 109.81818181818181),\n",
       " (1.417, 109.83838383838383),\n",
       " (1.417, 109.85858585858585),\n",
       " (1.417, 109.87878787878788),\n",
       " (1.417, 109.8989898989899),\n",
       " (1.417, 109.91919191919192),\n",
       " (1.417, 109.93939393939394),\n",
       " (1.417, 109.95959595959596),\n",
       " (1.417, 109.97979797979798),\n",
       " (1.417, 110.0)]"
      ]
     },
     "execution_count": 34,
     "metadata": {},
     "output_type": "execute_result"
    }
   ],
   "source": [
    "import numpy \n",
    "b_values = list(numpy.linspace(108, 110, 100))\n",
    "\n",
    "m_values = [1.417]*len(b_values)\n",
    "regression_lines = list(zip(m_values, b_values))\n",
    "regression_lines"
   ]
  },
  {
   "cell_type": "code",
   "execution_count": 27,
   "metadata": {},
   "outputs": [
    {
     "data": {
      "text/plain": [
       "[[1.417, 100, 19597.0],\n",
       " [1.417, 101, 19515.0],\n",
       " [1.417, 102, 19443.0],\n",
       " [1.417, 103, 19382.0],\n",
       " [1.417, 104, 19330.0],\n",
       " [1.417, 105, 19289.0],\n",
       " [1.417, 106, 19257.0],\n",
       " [1.417, 107, 19235.0],\n",
       " [1.417, 108, 19224.0],\n",
       " [1.417, 109, 19222.0],\n",
       " [1.417, 110, 19230.0],\n",
       " [1.417, 111, 19249.0],\n",
       " [1.417, 112, 19277.0],\n",
       " [1.417, 113, 19315.0],\n",
       " [1.417, 114, 19364.0],\n",
       " [1.417, 115, 19422.0],\n",
       " [1.417, 116, 19490.0],\n",
       " [1.417, 117, 19569.0],\n",
       " [1.417, 118, 19657.0],\n",
       " [1.417, 119, 19755.0]]"
      ]
     },
     "execution_count": 27,
     "metadata": {},
     "output_type": "execute_result"
    }
   ],
   "source": [
    "rss_lines = residual_sum_squares_errors(budgets, revenues, regression_lines)\n",
    "rss_lines"
   ]
  },
  {
   "cell_type": "markdown",
   "metadata": {},
   "source": [
    "| b        | residual sum of squares           | \n",
    "| ------------- |:-------------:| \n",
    "| 140| 24131\n",
    "| 130      |21497| \n",
    "| 120      |19864 | \n",
    "| 110      |19230| \n",
    "|100 | 19597\n",
    "|90 | 20963\n",
    "|80 | 23330\n",
    "|70| 26696"
   ]
  },
  {
   "cell_type": "markdown",
   "metadata": {},
   "source": [
    "Notice what the above chart represents.  While keeping our value of $m$ fixed at 1.417, we moved towards a smaller residual sum of squares (RSS) by changing our value of $b$, our y-intercept. \n",
    "\n",
    "Setting $b$ to 130 produced a lower error than at 140.  We kept moving our $b$ value lower until we set $b$ = 100, at which point our error began to increase.  Therefore, we know that a value of $b$ between 110 and 100 produces the smallest RSS for our data while $m = 1.417$. \n",
    "\n",
    "This changing output of RSS based on a changing input of different regression lines is called our **cost function**.  Let's plot this chart to see it better.\n",
    "\n",
    "We set:\n",
    "\n",
    "* `b_values` as the input values (x values), and\n",
    "* `rss_errors` as the output values (y values)"
   ]
  },
  {
   "cell_type": "code",
   "execution_count": 28,
   "metadata": {},
   "outputs": [],
   "source": [
    "b_values = list(range(70, 150, 10))\n",
    "\n",
    "# remember that each element in rss_lines has the m value, b value, and related rss error\n",
    "# rss_lines[0] => [1.417, 70, 26696.0]\n",
    "# so we collect the rss errors for each regression line  \n",
    "rss_errors = list(map(lambda line: line[-1], rss_lines))"
   ]
  },
  {
   "cell_type": "code",
   "execution_count": 29,
   "metadata": {},
   "outputs": [
    {
     "data": {
      "text/html": [
       "<script>requirejs.config({paths: { 'plotly': ['https://cdn.plot.ly/plotly-latest.min']},});if(!window.Plotly) {{require(['plotly'],function(plotly) {window.Plotly=plotly;});}}</script>"
      ],
      "text/vnd.plotly.v1+html": [
       "<script>requirejs.config({paths: { 'plotly': ['https://cdn.plot.ly/plotly-latest.min']},});if(!window.Plotly) {{require(['plotly'],function(plotly) {window.Plotly=plotly;});}}</script>"
      ]
     },
     "metadata": {},
     "output_type": "display_data"
    },
    {
     "data": {
      "application/vnd.plotly.v1+json": {
       "data": [
        {
         "mode": "lines",
         "name": "data",
         "text": [],
         "type": "scatter",
         "uid": "5b328892-e3b0-11e9-9ff6-e12f6422c2a1",
         "x": [
          70,
          80,
          90,
          100,
          110,
          120,
          130,
          140
         ],
         "y": [
          19597,
          19515,
          19443,
          19382,
          19330,
          19289,
          19257,
          19235,
          19224,
          19222,
          19230,
          19249,
          19277,
          19315,
          19364,
          19422,
          19490,
          19569,
          19657,
          19755
         ]
        }
       ],
       "layout": {}
      },
      "text/html": [
       "<div id=\"75051440-97fe-405d-acd9-698320f499a6\" style=\"height: 525px; width: 100%;\" class=\"plotly-graph-div\"></div><script type=\"text/javascript\">require([\"plotly\"], function(Plotly) { window.PLOTLYENV=window.PLOTLYENV || {};window.PLOTLYENV.BASE_URL=\"https://plot.ly\";Plotly.newPlot(\"75051440-97fe-405d-acd9-698320f499a6\", [{\"mode\": \"lines\", \"name\": \"data\", \"text\": [], \"x\": [70, 80, 90, 100, 110, 120, 130, 140], \"y\": [19597.0, 19515.0, 19443.0, 19382.0, 19330.0, 19289.0, 19257.0, 19235.0, 19224.0, 19222.0, 19230.0, 19249.0, 19277.0, 19315.0, 19364.0, 19422.0, 19490.0, 19569.0, 19657.0, 19755.0], \"type\": \"scatter\", \"uid\": \"5b3ed804-e3b0-11e9-9ff6-e12f6422c2a1\"}], {}, {\"showLink\": true, \"linkText\": \"Export to plot.ly\"})});</script>"
      ],
      "text/vnd.plotly.v1+html": [
       "<div id=\"75051440-97fe-405d-acd9-698320f499a6\" style=\"height: 525px; width: 100%;\" class=\"plotly-graph-div\"></div><script type=\"text/javascript\">require([\"plotly\"], function(Plotly) { window.PLOTLYENV=window.PLOTLYENV || {};window.PLOTLYENV.BASE_URL=\"https://plot.ly\";Plotly.newPlot(\"75051440-97fe-405d-acd9-698320f499a6\", [{\"mode\": \"lines\", \"name\": \"data\", \"text\": [], \"x\": [70, 80, 90, 100, 110, 120, 130, 140], \"y\": [19597.0, 19515.0, 19443.0, 19382.0, 19330.0, 19289.0, 19257.0, 19235.0, 19224.0, 19222.0, 19230.0, 19249.0, 19277.0, 19315.0, 19364.0, 19422.0, 19490.0, 19569.0, 19657.0, 19755.0], \"type\": \"scatter\", \"uid\": \"5b3ed804-e3b0-11e9-9ff6-e12f6422c2a1\"}], {}, {\"showLink\": true, \"linkText\": \"Export to plot.ly\"})});</script>"
      ]
     },
     "metadata": {},
     "output_type": "display_data"
    }
   ],
   "source": [
    "import plotly\n",
    "from plotly.offline import init_notebook_mode, iplot\n",
    "from graph import m_b_trace, trace_values, plot\n",
    "init_notebook_mode(connected=True)\n",
    "\n",
    "\n",
    "cost_curve_trace = trace_values(b_values, rss_errors, mode=\"lines\")\n",
    "plot([cost_curve_trace])"
   ]
  },
  {
   "cell_type": "markdown",
   "metadata": {},
   "source": [
    "The graph above is called the **cost curve**.  It is a plot of the RSS for different values of $b$.    The curve demonstrates that when $b$ is between 100 and 120, the RSS is lowest.  This technique of optimizing towards a minimum value is called *gradient descent*.  Here, we *descend* along a cost curve.  As we change our variable, we need to stop when the value of our RSS no longer decreases."
   ]
  },
  {
   "cell_type": "markdown",
   "metadata": {},
   "source": [
    "### Summary\n",
    "\n",
    "In this section we saw the path from going from calculating the RSS for a given regression line, to finding a line that minimizes our RSS - a best fit line.  We learned that we can move to a better regression line by descending along our cost curve.  Going forward, we will learn how to move towards our best fit line in an efficient manner. "
   ]
  }
 ],
 "metadata": {
  "kernelspec": {
   "display_name": "Python 3",
   "language": "python",
   "name": "python3"
  },
  "language_info": {
   "codemirror_mode": {
    "name": "ipython",
    "version": 3
   },
   "file_extension": ".py",
   "mimetype": "text/x-python",
   "name": "python",
   "nbconvert_exporter": "python",
   "pygments_lexer": "ipython3",
   "version": "3.6.6"
  }
 },
 "nbformat": 4,
 "nbformat_minor": 2
}
